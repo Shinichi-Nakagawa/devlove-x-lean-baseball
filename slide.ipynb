{
 "cells": [
  {
   "cell_type": "code",
   "execution_count": 1,
   "metadata": {
    "scrolled": true,
    "slideshow": {
     "slide_type": "skip"
    }
   },
   "outputs": [
    {
     "data": {
      "text/html": [
       "<link rel=\"stylesheet\" type=\"text/css\" href=\"./assets/theme.css\">\n"
      ],
      "text/plain": [
       "<IPython.core.display.HTML object>"
      ]
     },
     "metadata": {},
     "output_type": "display_data"
    }
   ],
   "source": [
    "%%HTML\n",
    "<link rel=\"stylesheet\" type=\"text/css\" href=\"./assets/theme.css\">"
   ]
  },
  {
   "cell_type": "markdown",
   "metadata": {
    "slideshow": {
     "slide_type": "slide"
    }
   },
   "source": [
    "# Lean Baseball\n",
    "\n",
    "<img src=\"./assets/img/00_top.JPG\" style=\"height: 500px;\">\n",
    "\n",
    "__技術,Python,野球と越境し続けた今までとこれから__\n",
    "\n",
    "Shinichi Nakagawa([@shinyorke](https://twitter.com/shinyorke)) - DevLOVE X 2019/6/23"
   ]
  },
  {
   "cell_type": "markdown",
   "metadata": {
    "slideshow": {
     "slide_type": "slide"
    }
   },
   "source": [
    "## Who am I?(お前誰よ)\n",
    "\n",
    "* Shinichi Nakagawa([@shinyorke](https://twitter.com/shinyorke))\n",
    "* NEXT BASE Corp. 野球エンジニア(ex. RECRUIT, Retty, etc...)\n",
    "* Pythonもくもく自習室(#rettypy)オーガナイザー\n",
    "* Python界隈の「野球の人」. PyCon JP 登壇(2014-2018, 5年連続)ほか色々やってる.\n",
    "* #Python #Baseball #セイバーメトリクス #魚料理 #UKRock"
   ]
  },
  {
   "cell_type": "markdown",
   "metadata": {
    "slideshow": {
     "slide_type": "slide"
    }
   },
   "source": [
    "##  Summary\n",
    "\n",
    "大雑把にいうと,  __「ブログ開設5周年記念講演」__です！\n",
    "\n",
    "* ブログ「[Lean Baseball](https://shinyorke.hatenablog.com/)」を元に過去5年(〜10年)をふりかえる\n",
    "* この先5年(または10年)をどう生きるか雑に言う\n",
    "* Python, Lean, そして野球⚾\n",
    "\n",
    "以上を好き勝手に語ります."
   ]
  },
  {
   "cell_type": "markdown",
   "metadata": {
    "slideshow": {
     "slide_type": "slide"
    }
   },
   "source": [
    "## 10年前くらいの話2009〜2013年\n",
    "\n",
    "ブログをはじめる前のはなし\n",
    "\n",
    "<img src=\"./assets/img/02_2013.jpg\" style=\"height: 500px;\">\n",
    "\n",
    "※写真はPrimrose Hill(from London)"
   ]
  },
  {
   "cell_type": "markdown",
   "metadata": {
    "slideshow": {
     "slide_type": "slide"
    }
   },
   "source": [
    "### 2009-2013年まで(30〜34歳)\n",
    "\n",
    "* 20代後半に患った心の病から復帰\n",
    "* 当時勤務していたコンサル会社で新しいお客様と出会い変化が起こる\n",
    "* 仕事が業務系SEからWebエンジニアへ（Java→Ruby）\n",
    "* <u>__仕事つながりでデータサイエンスに目覚める(Pythonista化)__</u>\n",
    "* アジャイル・スクラムと本格的に出会う、覚えて運用を始める\n",
    "* <u>__30代はとにかく「仕事」に突っ走ろう！という決意__</u>\n"
   ]
  },
  {
   "cell_type": "markdown",
   "metadata": {
    "slideshow": {
     "slide_type": "slide"
    }
   },
   "source": [
    "### 決意と出会い\n",
    "\n",
    "#### 決意\n",
    "\n",
    "> 「（仕事の人生・男の人生は）30代でどれだけやり切れるかが勝負」\n",
    "\n",
    "* 父の言葉の受け売り. 実際に父は30代で結果を出してた\n",
    "* 「若さが無くなったらどうやって戦うんだ？」という実感、あとリーマン・ショック\n",
    "*  <u>__「30代は趣味を控えて今後の人生のため全力で走る！」__</u>と決めた\n",
    "\n",
    "#### 出会い\n",
    "\n",
    "* __「Python」__ 仕事以外のプログラミングをするキッカケを与えてくれた(理由は後ほど)\n",
    "* __「統計・データサイエンス」__ データの面白さ、客観的な事実・ファクトの大切さを教えてくれた.\n",
    "* __「アジャイル・リーン」__ ユーザーさんへの価値提供がすべて.「言われたことをやる」ではない世界."
   ]
  },
  {
   "cell_type": "markdown",
   "metadata": {
    "slideshow": {
     "slide_type": "slide"
    }
   },
   "source": [
    "## 試行錯誤の時代 - 2014〜2017年\n",
    "\n",
    "2014年, ブログ「Lean Baseball」スタート\n",
    "\n",
    "<img src=\"./assets/img/03_2014.jpg\" style=\"height: 500px;\">"
   ]
  },
  {
   "cell_type": "markdown",
   "metadata": {
    "slideshow": {
     "slide_type": "slide"
    }
   },
   "source": [
    "### 「決意」と「出会い」から起こしたアクション\n",
    "\n",
    "* <u>__思ったこと・自分が面白いと思ったことをやってみる__</u>\n",
    "* やることは仕事につながるように→技術とドキュメンテーションを磨く\n",
    "* __「気になっている<u>野球データをPythonでいじってみよう</u>」という結論にいたる__\n",
    "\n",
    "そうだ、たくさん実験をしよう！"
   ]
  },
  {
   "cell_type": "markdown",
   "metadata": {
    "slideshow": {
     "slide_type": "slide"
    }
   },
   "source": [
    "### 「実験」を行う方法と場所\n",
    "\n",
    "#### 実験は「個人プロジェクト」として\n",
    "\n",
    "* __毎週末限定の個人プロジェクト__\n",
    "* 週末や平日の夜に野球に関する分析・解析・エンジニアリングをやる\n",
    "* 使う技術・仕事は日中の仕事に適用可能かつ実験的なモノ\n",
    "* 結果は必ずイベントなりメディアで披露する\n",
    "\n",
    "#### 外のイベント ※本日話さないこと\n",
    "\n",
    "* もくもく会およびカンファレンス. [#pyhack](https://pyhack.connpass.com/), [#mokupy](https://mokupy.connpass.com/), [PyCon JP](https://pycon.jp/2019/), [XP祭り](https://xpjug.com/xp2019/)ほか.\n",
    "* しばらく後(2017年)に自分でも立ち上げ→「[Pythonもくもく自習室 #rettypy](https://retty.connpass.com/)」\n",
    "\n",
    "#### メディア ※本日のメインテーマ\n",
    "\n",
    "<u>__自分のブログ（一択）__</u>"
   ]
  },
  {
   "cell_type": "markdown",
   "metadata": {
    "slideshow": {
     "slide_type": "slide"
    }
   },
   "source": [
    "### ブログ「Lean Baseball」\n",
    "\n",
    "* 技術と野球、キャリアをまとめる場所としてスタート\n",
    "* 元々ブログは別に書いていたが、そっちを閉じて心機一転した\n",
    "* 当初から（そして今も）「技術」「野球」「キャリア」しか書かないと決めていた\n",
    "\n",
    "<u>__そして、第一弾記事からまさかの炎上を経験する__</u>"
   ]
  },
  {
   "cell_type": "markdown",
   "metadata": {
    "slideshow": {
     "slide_type": "slide"
    }
   },
   "source": [
    "### 2014年7月20日「炎上記念日」\n",
    "\n",
    "[成長したいエンジニアは良いエンジニアの本棚を真似るといいんじゃない？](https://shinyorke.hatenablog.com/entry/2014/07/20/231609)\n",
    "\n",
    "<img src=\"./assets/img/03_2014.jpg\" style=\"height: 500px;\">\n"
   ]
  },
  {
   "cell_type": "markdown",
   "metadata": {
    "slideshow": {
     "slide_type": "slide"
    }
   },
   "source": [
    "### 初炎上の惨劇\n",
    "\n",
    "<img src=\"./assets/img/04_enjo.jpg\" style=\"height: 500px;\">\n"
   ]
  },
  {
   "cell_type": "markdown",
   "metadata": {
    "slideshow": {
     "slide_type": "slide"
    }
   },
   "source": [
    "### 初炎上からの学び\n",
    "\n",
    "* 「他人の”ふんどし”で相撲を取る」真似はするな（「俺もそう思ってた」的なツイート引用）\n",
    "* ポジション・トークの用法・用量💊（立ち位置でマウンティングだめ、絶対）\n",
    "* 煽りワードは火傷する（こなみ）\n",
    "\n",
    "調子に乗りすぎたという反省（3年3ヶ月4日ぶり, 334回目）"
   ]
  },
  {
   "cell_type": "markdown",
   "metadata": {
    "slideshow": {
     "slide_type": "slide"
    }
   },
   "source": [
    "### 早速ピボットした\n",
    "\n",
    "* __自分ができること・持っているもので直球勝負する__\n",
    "* ポジション・トークと煽りをやめる（やるにしてもちゃんとフラグは回収する）\n",
    "* <u>__自分が手を動かして試した・作った・学んだモノ...を「野球」と「技術」で言語化する__</u>\n"
   ]
  },
  {
   "cell_type": "markdown",
   "metadata": {
    "slideshow": {
     "slide_type": "slide"
    }
   },
   "source": [
    "### 2014年8月3日「セイバーメトリクス入門」\n",
    "\n",
    "[【野球】30分でわかるセイバーメトリクス](https://shinyorke.hatenablog.com/entry/2014/08/03/142506)\n",
    "\n",
    "<img src=\"./assets/img/05_sabr.jpg\" style=\"height: 500px;\">\n"
   ]
  },
  {
   "cell_type": "markdown",
   "metadata": {
    "slideshow": {
     "slide_type": "slide"
    }
   },
   "source": [
    "### この記事で心がけたこと\n",
    "\n",
    "* 自分が大好きで、自分が学んできたことを「30分でわかりやすく」伝える事に注力\n",
    "* 当時、この記事を書いたモチベーションは「セイバーメトリクスを”わかりやすく”言語化」すること\n",
    "\n",
    "<u>__結果、長きに渡ってご愛顧いただけるコンテンツに！__</u>"
   ]
  },
  {
   "cell_type": "markdown",
   "metadata": {
    "slideshow": {
     "slide_type": "slide"
    }
   },
   "source": [
    "### 「ご愛顧いただいて」いる証拠はこちら\n",
    "\n",
    "<img src=\"./assets/img/06_sabr.jpg\" style=\"height: 500px;\">\n"
   ]
  },
  {
   "cell_type": "markdown",
   "metadata": {
    "slideshow": {
     "slide_type": "slide"
    }
   },
   "source": [
    "### 書いた当時は\n",
    "\n",
    "* さほどヒットしなかったのですが\n",
    "* 気がつけばSEOが効いてたのか？グイグイ上にきた　※施策は何もしてない\n",
    "* 書いて2年後くらい（2016年ごろ）に気がついた\n",
    "\n",
    "<u>__「自分のことば」で書いたコンテンツは強い（確信）__</u>"
   ]
  },
  {
   "cell_type": "markdown",
   "metadata": {
    "slideshow": {
     "slide_type": "slide"
    }
   },
   "source": [
    "### 2015年4月6日「⚾とPython,初の大ヒット・コンテンツ」\n",
    "[最強の野球オープンデータ「Retrosheet」をPython+(長いので以下略)](https://shinyorke.hatenablog.com/entry/2015/04/06/190243)\n",
    "\n",
    "<img src=\"./assets/img/07_python_baseball.jpg\" style=\"height: 500px;\">\n"
   ]
  },
  {
   "cell_type": "markdown",
   "metadata": {
    "slideshow": {
     "slide_type": "slide"
    }
   },
   "source": [
    "### ヒットした理由（ブログ目線）\n",
    "\n",
    "* 自分のバットとボール...もとい、エンジニアリングで勝負（コードもついてる）\n",
    "* マウンティングも煽りもしていない\n",
    "* むしろ、「読む人」の定義をしている（≒合う人は読むと面白いと思う、合わない人はそっ閉じしていいよ）"
   ]
  },
  {
   "cell_type": "markdown",
   "metadata": {},
   "source": [
    "##### 読む人の定義（抜粋）\n",
    "<img src=\"./assets/img/08_yakiu_ga_suki.jpg\" style=\"height: 400px;\">\n"
   ]
  },
  {
   "cell_type": "markdown",
   "metadata": {
    "slideshow": {
     "slide_type": "slide"
    }
   },
   "source": [
    "### ヒットした理由（外的要因）\n",
    "\n",
    "* PyCon JP 2014で「[Pythonではじめる野球プログラミング](https://www.slideshare.net/shinyorke/python-39061157)」というトークをやった\n",
    "* トークがバカ受け、Python界隈で「野球の人」「野球HackならPython」というイメージが定着\n",
    "* ブログそのものは、続編的な立ち位置→なんかいい感じにホームランになった\n",
    "\n",
    "<u>__野球同様、技術（Python)も大切にしている、何故かと言うと__</u>"
   ]
  },
  {
   "cell_type": "markdown",
   "metadata": {
    "slideshow": {
     "slide_type": "slide"
    }
   },
   "source": [
    "### 野球同様「技術」が大切だからです.\n",
    "\n",
    "私のブログは「野球と技術」の集合体\n",
    "\n",
    "<img src=\"./assets/img/computer_programming_man.png\" style=\"height: 500px;\">"
   ]
  },
  {
   "cell_type": "markdown",
   "metadata": {
    "slideshow": {
     "slide_type": "slide"
    }
   },
   "source": [
    "### Lean Baseballは「野球」を軸とした「技術」ブログ\n",
    "\n",
    "> 自分が手を動かして試した・作った・学んだモノを\n",
    "\n",
    "> 「野球」と「技術」で言語化する\n",
    "\n",
    "* 名前の由来（最後に紹介）そして上記の方針（再掲）のとおり、「野球」「技術」が軸\n",
    "* 野球はセイバーメトリクスを中心に（前述の通り）\n",
    "* 技術は「Python」と「Python以外」でざっくり分けて取り扱い"
   ]
  },
  {
   "cell_type": "markdown",
   "metadata": {
    "slideshow": {
     "slide_type": "slide"
    }
   },
   "source": [
    "### なぜPythonなのか\n",
    "\n",
    "<u>__便利かつ大好きだからです（こなみ）__</u>\n",
    "\n",
    "#### 汎用性の高さ\n",
    "\n",
    "* Webもデータサイエンスもそれ以外も、自由になにか使え！と言われたらPython\n",
    "* という方針で7,8年前からずっと普段使いはPython\n",
    "* Webもデータサイエンスも同じ言語でいい感じにできる\n",
    "\n",
    "#### コミュニティ\n",
    "\n",
    "* よく参加してるコミュニティがPythonだった\n",
    "* [#pyhack](https://pyhack.connpass.com/), [#mokupy](https://mokupy.connpass.com/)あたりに行けば強い人からヒント仕入れられる\n",
    "* 本や日本語のドキュメントが揃ってなかった頃からお世話になってる\n"
   ]
  },
  {
   "cell_type": "markdown",
   "metadata": {
    "slideshow": {
     "slide_type": "slide"
    }
   },
   "source": [
    "### 2016年7月3日 - 一番気に入ってるPythonネタ\n",
    "\n",
    "[たった数行のPythonコードで打者大谷翔平がどれだけ凄いのかを見てみる](https://shinyorke.hatenablog.com/entry/2016/07/03/184739)\n",
    "\n",
    "<img src=\"./assets/img/09_shohei.jpg\" style=\"height: 500px;\">\n"
   ]
  },
  {
   "cell_type": "markdown",
   "metadata": {
    "slideshow": {
     "slide_type": "slide"
    }
   },
   "source": [
    "### その他のPythonネタ\n",
    "\n",
    "...とまあこんな感じでWebとデータサイエンスしてました.\n",
    "\n",
    "* [Django(Webアプリケーション)のノウハウ](https://shinyorke.hatenablog.com/entry/vue-django-hateoas)\n",
    "* [データサイエンスの初歩](https://shinyorke.hatenablog.com/entry/jupyterbook-baseball)\n",
    "* [ Webスクレイピング（なお自己責任）](https://shinyorke.hatenablog.com/entry/scrapy-example-yakiu)"
   ]
  },
  {
   "cell_type": "markdown",
   "metadata": {
    "slideshow": {
     "slide_type": "slide"
    }
   },
   "source": [
    "### Python以外の技術要素\n",
    "\n",
    "#### 基盤・インフラ層の技術・ライブラリ\n",
    "\n",
    "運用と開発環境をキレイにするかつ、後日仕事で活かせるように積極的に投入\n",
    "\n",
    "* Docker\n",
    "* Ansible, etc...\n",
    "\n",
    "#### データサイエンスの道具\n",
    "\n",
    "主に分析・解析したデータの運用. これも仕事への導入前提.なおほとんどPython.\n",
    "\n",
    "* 可視化. Redash, Jupyter notebookほか.\n",
    "* データフロー. Airflow, luigiなど\n"
   ]
  },
  {
   "cell_type": "markdown",
   "metadata": {
    "slideshow": {
     "slide_type": "slide"
    }
   },
   "source": [
    "### Dockerとデータサイエンスの合わせ技とか(2017年8月31日)\n",
    "\n",
    "[AirflowとDockerで俺々データ分析基盤をつくってみた&Imageを公開してみた #kwskrb](https://shinyorke.hatenablog.com/entry/airflow-docker)\n",
    "\n",
    "<img src=\"./assets/img/10_airflow.jpg\" style=\"height: 500px;\">\n"
   ]
  },
  {
   "cell_type": "markdown",
   "metadata": {
    "slideshow": {
     "slide_type": "slide"
    }
   },
   "source": [
    "### 更にアジャイルやなんかも\n",
    "\n",
    "なんせ、名前が「Lean」なので\n",
    "\n",
    "#### スクラム\n",
    "\n",
    "* ふりかえりを分類したり\n",
    "* あえてスクラムを捨てたり\n",
    "\n",
    "これはすぐ後のスライドにて\n",
    "\n",
    "#### フレームワーク・アクション\n",
    "\n",
    "* PyCon JPの登壇時に書いたインセプションデッキを公開\n",
    "* Lean Startupから派生したモノの紹介・オススメ(Lean Canvasなど)"
   ]
  },
  {
   "cell_type": "markdown",
   "metadata": {
    "slideshow": {
     "slide_type": "slide"
    }
   },
   "source": [
    "### よく読まれている「ふりかえりの分類」 - 2016年7月3日\n",
    "\n",
    "[ふりかえりを分類してみた〜自分のチームに合うのはどれだ！？ #Agile](https://shinyorke.hatenablog.com/entry/2016/06/16/013538)\n",
    "\n",
    "<img src=\"./assets/img/11_furikaeri.jpg\" style=\"height: 500px;\">\n"
   ]
  },
  {
   "cell_type": "markdown",
   "metadata": {
    "slideshow": {
     "slide_type": "slide"
    }
   },
   "source": [
    "### 「ご愛顧いただいて」いる証拠はこちら（本日二回目）\n",
    "\n",
    "<img src=\"./assets/img/12_furikaeri.jpg\" style=\"height: 500px;\">\n"
   ]
  },
  {
   "cell_type": "markdown",
   "metadata": {
    "slideshow": {
     "slide_type": "slide"
    }
   },
   "source": [
    "### こういうのもやりました(2018年12月18日)\n",
    "\n",
    "[あえて、スクラムを「捨てる」勇気 - 「越境」のための言語化とプラクティス選び](https://shinyorke.hatenablog.com/entry/retty-scrum-meetup-2018)\n",
    "\n",
    "<u>「Do Scrum」じゃなくて、「Be Agile」しようぜ！っていうはなし</u>\n",
    "\n",
    "<img src=\"./assets/img/13_scrum_steta.jpg\" style=\"height: 400px;\">\n",
    "\n"
   ]
  },
  {
   "cell_type": "markdown",
   "metadata": {
    "slideshow": {
     "slide_type": "slide"
    }
   },
   "source": [
    "### 技術ネタがバズると\n",
    "\n",
    "* 色々な人に聞かれる\n",
    "* 知人・友人・同僚（今度飯食いながらPython教えてよ、的な）\n",
    "* 知らない方々（ブログを見たんですけど、野球の統計教えてもらえますか？、的な）\n",
    "\n",
    "ワイ「（いちいち答えるのムズイから）ブログにすっか」"
   ]
  },
  {
   "cell_type": "markdown",
   "metadata": {
    "slideshow": {
     "slide_type": "slide"
    }
   },
   "source": [
    "### 結果、大人気コンテンツが爆誕(2017年12月24日)\n",
    "\n",
    "[Pythonの学び方と,読むべき本を体系化しました2018〜初心者から上級者まで](https://shinyorke.hatenablog.com/entry/python2018)\n",
    "\n",
    "<img src=\"./assets/img/15_python2018.jpg\" style=\"height: 500px;\">\n"
   ]
  },
  {
   "cell_type": "markdown",
   "metadata": {
    "slideshow": {
     "slide_type": "slide"
    }
   },
   "source": [
    "### 「Python 本」の検索結果\n",
    "\n",
    "<img src=\"./assets/img/14_python_book.jpg\" style=\"height: 500px;\">"
   ]
  },
  {
   "cell_type": "markdown",
   "metadata": {
    "slideshow": {
     "slide_type": "slide"
    }
   },
   "source": [
    "### Python本シリーズ\n",
    "\n",
    "* 2017年から毎年書いてる\n",
    "* 単に本を紹介するだけでなく、学び方やその時のトレンドも含めて\n",
    "* 　<u>__「複数人に同じことを25〜334回聞かれたらブログに書いたほうがよい！」という学び__</u>\n",
    "* 最初のブログを「本棚」で炎上させたがきっちりとフラグを回収した（こなみ）"
   ]
  },
  {
   "cell_type": "markdown",
   "metadata": {
    "slideshow": {
     "slide_type": "slide"
    }
   },
   "source": [
    "### ちなみに最新作(2018年12月24日)\n",
    "\n",
    "[Python本まとめ・2019年版 - Webとデータ分析を初心者が仕事にするまで](https://shinyorke.hatenablog.com/entry/python2019)\n",
    "\n",
    "毎年クリスマスイヴに出してます\n",
    "\n",
    "<img src=\"./assets/img/16_python2019.jpg\" style=\"height: 500px;\">\n"
   ]
  },
  {
   "cell_type": "markdown",
   "metadata": {
    "slideshow": {
     "slide_type": "slide"
    }
   },
   "source": [
    "### なお、書くのは辛い\n",
    "\n",
    "Python本記事は毎年丸一日かけて書いてます、護摩行並の辛さかな（適当）\n",
    "\n",
    "<img src=\"./assets/img/syugyou_goma_gyou.png\" style=\"height: 500px;\">"
   ]
  },
  {
   "cell_type": "markdown",
   "metadata": {
    "slideshow": {
     "slide_type": "slide"
    }
   },
   "source": [
    "## 野球エンジニア - 今の話\n",
    "\n",
    "__2018年2月1日, 「野球エンジニア」爆誕__  ※宣言は1/14\n",
    "\n",
    "[夢は正夢〜「野球エンジニア」としてのキャリアのはじまり](https://shinyorke.hatenablog.com/entry/yakiu-no-jikan-daaaa)\n",
    "\n",
    "<img src=\"./assets/img/17_yakiu.jpg\" style=\"height: 500px;\">"
   ]
  },
  {
   "cell_type": "markdown",
   "metadata": {
    "slideshow": {
     "slide_type": "slide"
    }
   },
   "source": [
    "### なぜ⚾のキャリアを手にしたか？\n",
    "\n",
    "...はさんざん話してる・書いてるのでこちらを御覧ください :bow:\n",
    "\n",
    "[野球エンジニアになるまでの歩み〜夢は正夢 #devsumi](https://speakerdeck.com/shinyorke/ye-qiu-enzinianinarumadefalsebu-mi-meng-hazheng-meng-number-devsumi)\n",
    "\n",
    "<img src=\"./assets/img/18_devsumi.jpg\" style=\"height: 500px;\">"
   ]
  },
  {
   "cell_type": "markdown",
   "metadata": {
    "slideshow": {
     "slide_type": "slide"
    }
   },
   "source": [
    "### 今日言いたいことは\n",
    "\n",
    "__<u>「技術」×「野球」は進むべき道として間違っていなかった、そういうこと. </u>__\n",
    "\n",
    "※SABRはセイバーメトリクスの略語\n",
    "\n",
    "<img src=\"./assets/img/19_venn_baseball.jpg\" style=\"height: 500px;\">"
   ]
  },
  {
   "cell_type": "markdown",
   "metadata": {
    "slideshow": {
     "slide_type": "slide"
    }
   },
   "source": [
    "## 近未來のはなし - これから先の5年10年"
   ]
  },
  {
   "cell_type": "markdown",
   "metadata": {
    "slideshow": {
     "slide_type": "slide"
    }
   },
   "source": [
    "### 5年後（2024）\n",
    "\n",
    "__<u>立場はどうであれ、「エンジニアでありたい」</u>__\n",
    "\n",
    "* スポーツ（野球）の仕事を続けているか？それとも別に手を出しているか？それはわからん\n",
    "* でも、エンジニアとしての技能・脳みそ・お気持ちで価値を出し続けたい\n",
    "* ビジネスも技術も常に新しいもの・イケてるものを目指したい\n",
    "\n",
    "そして、ブログも発信し続ける（はず）"
   ]
  },
  {
   "cell_type": "markdown",
   "metadata": {
    "slideshow": {
     "slide_type": "slide"
    }
   },
   "source": [
    "### 10年後（2029）\n",
    "\n",
    "__<u>まだイメージはつかないけど「エンジニアでありたい」</u>__\n",
    "\n",
    "* 10年前（2009年）ごろの自分はエンジニアな方に振り切って未來が来た\n",
    "* と、いうことは10年後も？って考えるのは短絡的かもだけど信じてもいいかもしれない\n",
    "* プレーヤーとしてのエンジニア、マネジメント側にシフトしても純粋にやりたい事をやってけるようにしたい\n",
    "\n",
    "発信は、、、どうなるんだろう？ブログなのか他の手段なのか"
   ]
  },
  {
   "cell_type": "markdown",
   "metadata": {
    "slideshow": {
     "slide_type": "slide"
    }
   },
   "source": [
    "### 5年後・10年後にむけて今やってること\n",
    "\n",
    "#### 自分をふりかえる機会を増やす\n",
    "\n",
    "ちょっと前・だいぶ前の自分の活動・思想からヒントを得る\n",
    "\n",
    "* 昔に自分で書いたブログ・スライドなどを読み直す\n",
    "* 昔に読んだ本・20代ぐらいから好きな本・作品を読み直す・見直す\n",
    "\n",
    "#### 個人活動を少しずつピボット\n",
    "\n",
    "野球が仕事になったので去年までと同じじゃダメ、探索的に色々とやる（&時間を作る）\n",
    "\n",
    "* 気軽に発散. 具体的には[note](https://note.mu/shinyorke)でエッセイっぽいものを書き始めた.\n",
    "* 登壇・イベント参加を減らして自分ふりかえり・新たな個人活動のリソースに当てる（つまり断捨離）\n"
   ]
  },
  {
   "cell_type": "markdown",
   "metadata": {
    "slideshow": {
     "slide_type": "slide"
    }
   },
   "source": [
    "### 未來に向けて今のスタンス\n",
    "\n",
    "言うたら「気持ちは今のまま、でも自分の限度を知る（大切にする）」ってこと\n",
    "\n",
    "* <u>__心身の健康を第一とする、黙ってても身体は老いるので__</u> ※9月で40, 10年後は(ry\n",
    "* <u>__物事をゼロベースから俯瞰する、捉える、考える__</u>\n",
    "* 新しい事は積極的にやる、かわりに何かを捨てる（チャレンジと断捨離の両立）"
   ]
  },
  {
   "cell_type": "markdown",
   "metadata": {
    "slideshow": {
     "slide_type": "slide"
    }
   },
   "source": [
    "## Lean Baseball #とは\n",
    "\n",
    "<u>__2 + 2 = 5.__</u>\n",
    "\n",
    "２つのDiff, 2つのDev, 5つのアクションから成り立っている\n",
    "\n",
    "（と、[好きな曲](https://youtu.be/11oAXmVdEyQ)に合わせてこじつけました）"
   ]
  },
  {
   "cell_type": "markdown",
   "metadata": {
    "slideshow": {
     "slide_type": "slide"
    }
   },
   "source": [
    "### 2つのDiff\n",
    "\n",
    "何かを調べたり興味を持ってアウトプットするときの自分の原動力・ヒント\n",
    "\n",
    "#### 世間の「常識」に対するギモン\n",
    "\n",
    "* 周りが「常識」というものに対して自分なりにギモン・クエスチョンが常にある\n",
    "* 特に野球、科学や統計的に「おや？」ってものが常識だったり\n",
    "\n",
    "#### 自分の「今」と「これから」に対するギャップ\n",
    "\n",
    "* もっと言うと、「将来への不安」\n",
    "* リーマンショック、転職、野球エンジニアと事があるたびにギャップが色々と変わる"
   ]
  },
  {
   "cell_type": "markdown",
   "metadata": {
    "slideshow": {
     "slide_type": "slide"
    }
   },
   "source": [
    "### 2つのDev\n",
    "\n",
    "2つのDiff、をどうやってDev（開発）で証明するか？\n",
    "\n",
    "#### ギモン駆動開発（GDD）\n",
    "\n",
    "* ギモンに思ったり違和感あることを自分なりに考えて手を動かして証明するような開発\n",
    "* 野球の場合、統計学・セイバーメトリクスがまさにそれ\n",
    "* 技術であれば、「有効かどうかわからん」というモノを試す（ドッグフーディングですね）\n",
    "\n",
    "#### 中長期の自分プロジェクト\n",
    "\n",
    "* GDDを習慣にするため、数ヶ月〜数年の自分プロジェクトを回す\n",
    "* 野球エンジニアになるまでに続けていた野球Pythonとか\n",
    "* 大きめのカンファレンス登壇を目指すのも一つの手（自分の場合はPyCon JP）"
   ]
  },
  {
   "cell_type": "markdown",
   "metadata": {
    "slideshow": {
     "slide_type": "slide"
    }
   },
   "source": [
    "### 5つのアクション\n",
    "\n",
    "2つのDiffを証明し, 2つのDevをすすめるためにやった5つのアクション\n",
    "\n",
    "* イシュー駆動開発（すべてのDiffをイシュー化して検証する）\n",
    "* 検証結果をアウトプット（登壇・ブログ）\n",
    "* エンゲージメントを元にピボット（意見や反響を元にまた新たなイシューを出してまた回す）\n",
    "* 実装力をつける（検証をより効果的にやるためのエンジニア力磨き）\n",
    "* 常にホームランを狙う（三振でも構わない、インパクトが残るようなことをひたすらやる）\n",
    "\n",
    "<u>__「2 + 2 = 5」が自分にとっての「越境」ということでした</u>（DevLOVE風表現）__"
   ]
  },
  {
   "cell_type": "markdown",
   "metadata": {
    "slideshow": {
     "slide_type": "slide"
    }
   },
   "source": [
    "## 聴衆・読者の皆さまへ\n",
    "\n",
    "特に、<u>「刺激を受けました！（けど何からやれば？）」</u>っていう皆さまへ\n",
    "\n",
    "* 「好きなこと」×「技術」で何かやってみる\n",
    "* やった結果をブログなりLTなり、好きな方法で人前に披露する\n",
    "* フィードバックを元にまたチャレンジしてみる\n",
    "* 得た経験・技術を仕事に活かす（少しでも良いから）\n",
    "* ↑のイテレートを最低でも三ヶ月続けてみる\n",
    "\n",
    "<u>__「継続は力なり」ってこと！__</u>"
   ]
  },
  {
   "cell_type": "markdown",
   "metadata": {
    "slideshow": {
     "slide_type": "slide"
    }
   },
   "source": [
    "## さいごのはなし - 名前の由来\n",
    "\n",
    "「Lean Baseball」という名前の由来は\n",
    "\n",
    "><u> __「スタートアップが常に変化してグロースするように__</u>\n",
    "    \n",
    "> <u> __自分も野球(Baseball)も技術で常に変化(Lean)してグロースしていくぞ！」__</u>\n",
    "\n",
    "※ブログ記事「[平成の終わり](https://shinyorke.hatenablog.com/entry/heisei-no-owari-tmge) 」より引用\n",
    "\n",
    "というわけで、 今後も__常に変化しながらガンガン越境していきます.__\n",
    "\n"
   ]
  },
  {
   "cell_type": "markdown",
   "metadata": {
    "slideshow": {
     "slide_type": "slide"
    }
   },
   "source": [
    "<img src=\"./assets/img/gekijou_end_kan.png\" style=\"height: 500px;\">\n",
    "\n",
    "ご清聴ありがとうございました."
   ]
  }
 ],
 "metadata": {
  "celltoolbar": "Slideshow",
  "kernelspec": {
   "display_name": "Python 3",
   "language": "python",
   "name": "python3"
  },
  "language_info": {
   "codemirror_mode": {
    "name": "ipython",
    "version": 3
   },
   "file_extension": ".py",
   "mimetype": "text/x-python",
   "name": "python",
   "nbconvert_exporter": "python",
   "pygments_lexer": "ipython3",
   "version": "3.7.3"
  }
 },
 "nbformat": 4,
 "nbformat_minor": 2
}
